{
 "cells": [
  {
   "cell_type": "markdown",
   "id": "23828922",
   "metadata": {},
   "source": [
    "## GRU Network Predictions"
   ]
  },
  {
   "cell_type": "code",
   "execution_count": null,
   "id": "e33dce3e",
   "metadata": {},
   "outputs": [],
   "source": [
    "##create the classes and prepare the data\n",
    "import os, sys\n",
    "\n",
    "sys.path.append(os.path.abspath(\"../data_set_generator\"))\n",
    "sys.path.append(os.path.abspath(\"../network_training\"))\n",
    "sys.path.append(os.path.abspath(\"../data_preprocessing\"))\n",
    "sys.path.append(os.path.abspath(\"../data\"))\n",
    "\n",
    "\n",
    "project_root = os.path.abspath(os.path.join(os.getcwd(), \"..\"))\n",
    "if project_root not in sys.path:\n",
    "    sys.path.insert(0, project_root)\n",
    "\n",
    "\n",
    "os.environ[\"CUDA_VISIBLE_DEVICES\"] = \"-1\"\n",
    "os.environ[\"TF_ENABLE_ONEDNN_OPTS\"] = \"0\"\n",
    "import keras\n",
    "from keras import optimizers\n",
    "from keras.models import Sequential\n",
    "from data_set_generator.bike_prediction import DataGenerator\n",
    "from data_set_generator.data_config import BikeDataConfig\n",
    "from network_training.network_generator import NetworkGenerator\n",
    "from network_training.callbacks import Callbacks\n",
    "\n",
    "classes = 8\n",
    "conf = BikeDataConfig(bikes_path = './/../data//bikes.csv', weather_path = './/../data//weather.csv', highest_class = classes)\n",
    "FFN_logs_base_dir='./Modellcheckpoints/Gru/'\n",
    "os.makedirs(FFN_logs_base_dir, exist_ok=True)\n",
    "FFN_log_dir=os.path.join(FFN_logs_base_dir, '_GRU.h5')\n",
    "callbacks = Callbacks(filepath = FFN_log_dir)\n",
    "\n",
    "\n",
    "batch_size = 256\n",
    "input_dims = 11\n",
    "output_dims = classes + 1 \n",
    "sequence_length = 3\n",
    "adam_optimizer = optimizers.Adam(learning_rate = 1e-4, beta_1=1- 1e-4, amsgrad = True)\n",
    "sgd_optimizer = optimizers.SGD(learning_rate = 1e-2,  momentum = 0.9, nesterov = True)\n",
    "\n",
    "network_gen = NetworkGenerator(data_generator = conf.d_gen, callbacks = callbacks, history_length = sequence_length)"
   ]
  },
  {
   "cell_type": "markdown",
   "id": "0b590707",
   "metadata": {},
   "source": [
    "## Create Batch Generators"
   ]
  },
  {
   "cell_type": "code",
   "execution_count": null,
   "id": "aacd7613",
   "metadata": {},
   "outputs": [
    {
     "name": "stdout",
     "output_type": "stream",
     "text": [
      "[[[ 0.77469835  0.54316378  0.         ...  1.         -0.06540313\n",
      "   -0.99785892]\n",
      "  [ 0.77469835  0.54316378  0.         ...  1.         -0.04361939\n",
      "   -0.99904822]\n",
      "  [ 0.77469835  0.54316378  0.         ...  1.         -0.02181489\n",
      "   -0.99976203]]\n",
      "\n",
      " [[ 0.77468936  0.54317987  0.         ...  1.         -0.44228869\n",
      "   -0.89687274]\n",
      "  [ 0.77468936  0.54317987  0.         ...  1.         -0.42261826\n",
      "   -0.90630779]\n",
      "  [ 0.77468936  0.54317987  0.         ...  1.         -0.40274669\n",
      "   -0.91531148]]\n",
      "\n",
      " [[ 0.77468837  0.54314303  0.         ...  1.          0.99144486\n",
      "   -0.13052619]\n",
      "  [ 0.77468837  0.54314303  0.         ...  1.          0.99405634\n",
      "   -0.10886687]\n",
      "  [ 0.77468837  0.54314303  0.         ...  1.          0.9961947\n",
      "   -0.08715574]]\n",
      "\n",
      " ...\n",
      "\n",
      " [[ 0.77461529  0.54307175  0.         ...  1.          0.99976203\n",
      "    0.02181489]\n",
      "  [ 0.77461529  0.54307175  0.         ...  1.          0.99904822\n",
      "    0.04361939]\n",
      "  [ 0.77461529  0.54307175  0.         ...  1.          0.99785892\n",
      "    0.06540313]]\n",
      "\n",
      " [[ 0.77475748  0.54335612  0.         ...  1.         -0.42261826\n",
      "   -0.90630779]\n",
      "  [ 0.77475748  0.54335612  0.         ...  1.         -0.40274669\n",
      "   -0.91531148]\n",
      "  [ 0.77475748  0.54335612  0.         ...  1.         -0.38268343\n",
      "   -0.92387953]]\n",
      "\n",
      " [[ 0.7745871   0.54303512  0.         ...  1.         -0.79335334\n",
      "   -0.60876143]\n",
      "  [ 0.7745871   0.54303512  0.         ...  1.         -0.77988448\n",
      "   -0.62592347]\n",
      "  [ 0.7745871   0.54303512  0.         ...  1.         -0.76604444\n",
      "   -0.64278761]]]\n",
      "[[0. 0. 0. ... 0. 0. 0.]\n",
      " [0. 0. 0. ... 0. 0. 0.]\n",
      " [0. 0. 0. ... 0. 0. 0.]\n",
      " ...\n",
      " [0. 0. 0. ... 0. 0. 0.]\n",
      " [0. 0. 0. ... 0. 0. 0.]\n",
      " [0. 0. 0. ... 0. 0. 0.]]\n"
     ]
    }
   ],
   "source": [
    "train_data_generator = network_gen.batch_generator(batch_size = batch_size, \n",
    "                             sequence_length = network_gen.history_length, \n",
    "                             x_data = network_gen.data_gen.train_list_x,\n",
    "                             y_data = network_gen.data_gen.train_list_y,\n",
    "                             min_index = 0,\n",
    "                             num_x_signals = input_dims,\n",
    "                             num_y_signals = output_dims,\n",
    "                             random = False)\n",
    "\n",
    "val_data_generator = network_gen.batch_generator(batch_size = batch_size, \n",
    "                             sequence_length = network_gen.history_length, \n",
    "                             x_data = network_gen.data_gen.vali_list_x,\n",
    "                             y_data = network_gen.data_gen.vali_list_y,\n",
    "                             min_index = 0,\n",
    "                             num_x_signals = input_dims,\n",
    "                             num_y_signals = output_dims,\n",
    "                             all_data = True)\n",
    "\n",
    "test_data_generator = network_gen.batch_generator(batch_size = batch_size, \n",
    "                             sequence_length = network_gen.history_length, \n",
    "                             x_data = network_gen.data_gen.test_list_x,\n",
    "                             y_data = network_gen.data_gen.test_list_y,\n",
    "                             min_index = 0,\n",
    "                             num_x_signals = input_dims,\n",
    "                             num_y_signals = output_dims,\n",
    "                             all_data = True)\n",
    "\n",
    "x_batch, y_batch = next(train_data_generator)\n",
    "print(x_batch)\n",
    "print(y_batch)"
   ]
  },
  {
   "cell_type": "markdown",
   "id": "6104fc00",
   "metadata": {},
   "source": [
    "## Define and Generate a GRU Network"
   ]
  },
  {
   "cell_type": "code",
   "execution_count": 8,
   "id": "b8d494db",
   "metadata": {},
   "outputs": [
    {
     "name": "stderr",
     "output_type": "stream",
     "text": [
      "/home/flo/python_environments/ml/lib/python3.12/site-packages/keras/src/layers/rnn/rnn.py:199: UserWarning: Do not pass an `input_shape`/`input_dim` argument to a layer. When using Sequential models, prefer using an `Input(shape)` object as the first layer in the model instead.\n",
      "  super().__init__(**kwargs)\n"
     ]
    },
    {
     "data": {
      "text/html": [
       "<pre style=\"white-space:pre;overflow-x:auto;line-height:normal;font-family:Menlo,'DejaVu Sans Mono',consolas,'Courier New',monospace\"><span style=\"font-weight: bold\">Model: \"sequential_1\"</span>\n",
       "</pre>\n"
      ],
      "text/plain": [
       "\u001b[1mModel: \"sequential_1\"\u001b[0m\n"
      ]
     },
     "metadata": {},
     "output_type": "display_data"
    },
    {
     "data": {
      "text/html": [
       "<pre style=\"white-space:pre;overflow-x:auto;line-height:normal;font-family:Menlo,'DejaVu Sans Mono',consolas,'Courier New',monospace\">┏━━━━━━━━━━━━━━━━━━━━━━━━━━━━━━━━━┳━━━━━━━━━━━━━━━━━━━━━━━━┳━━━━━━━━━━━━━━━┓\n",
       "┃<span style=\"font-weight: bold\"> Layer (type)                    </span>┃<span style=\"font-weight: bold\"> Output Shape           </span>┃<span style=\"font-weight: bold\">       Param # </span>┃\n",
       "┡━━━━━━━━━━━━━━━━━━━━━━━━━━━━━━━━━╇━━━━━━━━━━━━━━━━━━━━━━━━╇━━━━━━━━━━━━━━━┩\n",
       "│ gru_3 (<span style=\"color: #0087ff; text-decoration-color: #0087ff\">GRU</span>)                     │ (<span style=\"color: #00d7ff; text-decoration-color: #00d7ff\">None</span>, <span style=\"color: #00af00; text-decoration-color: #00af00\">3</span>, <span style=\"color: #00af00; text-decoration-color: #00af00\">11</span>)          │           <span style=\"color: #00af00; text-decoration-color: #00af00\">792</span> │\n",
       "├─────────────────────────────────┼────────────────────────┼───────────────┤\n",
       "│ gru_4 (<span style=\"color: #0087ff; text-decoration-color: #0087ff\">GRU</span>)                     │ (<span style=\"color: #00d7ff; text-decoration-color: #00d7ff\">None</span>, <span style=\"color: #00af00; text-decoration-color: #00af00\">3</span>, <span style=\"color: #00af00; text-decoration-color: #00af00\">45</span>)          │         <span style=\"color: #00af00; text-decoration-color: #00af00\">7,830</span> │\n",
       "├─────────────────────────────────┼────────────────────────┼───────────────┤\n",
       "│ gru_5 (<span style=\"color: #0087ff; text-decoration-color: #0087ff\">GRU</span>)                     │ (<span style=\"color: #00d7ff; text-decoration-color: #00d7ff\">None</span>, <span style=\"color: #00af00; text-decoration-color: #00af00\">45</span>)             │        <span style=\"color: #00af00; text-decoration-color: #00af00\">12,420</span> │\n",
       "├─────────────────────────────────┼────────────────────────┼───────────────┤\n",
       "│ dense_1 (<span style=\"color: #0087ff; text-decoration-color: #0087ff\">Dense</span>)                 │ (<span style=\"color: #00d7ff; text-decoration-color: #00d7ff\">None</span>, <span style=\"color: #00af00; text-decoration-color: #00af00\">9</span>)              │           <span style=\"color: #00af00; text-decoration-color: #00af00\">414</span> │\n",
       "└─────────────────────────────────┴────────────────────────┴───────────────┘\n",
       "</pre>\n"
      ],
      "text/plain": [
       "┏━━━━━━━━━━━━━━━━━━━━━━━━━━━━━━━━━┳━━━━━━━━━━━━━━━━━━━━━━━━┳━━━━━━━━━━━━━━━┓\n",
       "┃\u001b[1m \u001b[0m\u001b[1mLayer (type)                   \u001b[0m\u001b[1m \u001b[0m┃\u001b[1m \u001b[0m\u001b[1mOutput Shape          \u001b[0m\u001b[1m \u001b[0m┃\u001b[1m \u001b[0m\u001b[1m      Param #\u001b[0m\u001b[1m \u001b[0m┃\n",
       "┡━━━━━━━━━━━━━━━━━━━━━━━━━━━━━━━━━╇━━━━━━━━━━━━━━━━━━━━━━━━╇━━━━━━━━━━━━━━━┩\n",
       "│ gru_3 (\u001b[38;5;33mGRU\u001b[0m)                     │ (\u001b[38;5;45mNone\u001b[0m, \u001b[38;5;34m3\u001b[0m, \u001b[38;5;34m11\u001b[0m)          │           \u001b[38;5;34m792\u001b[0m │\n",
       "├─────────────────────────────────┼────────────────────────┼───────────────┤\n",
       "│ gru_4 (\u001b[38;5;33mGRU\u001b[0m)                     │ (\u001b[38;5;45mNone\u001b[0m, \u001b[38;5;34m3\u001b[0m, \u001b[38;5;34m45\u001b[0m)          │         \u001b[38;5;34m7,830\u001b[0m │\n",
       "├─────────────────────────────────┼────────────────────────┼───────────────┤\n",
       "│ gru_5 (\u001b[38;5;33mGRU\u001b[0m)                     │ (\u001b[38;5;45mNone\u001b[0m, \u001b[38;5;34m45\u001b[0m)             │        \u001b[38;5;34m12,420\u001b[0m │\n",
       "├─────────────────────────────────┼────────────────────────┼───────────────┤\n",
       "│ dense_1 (\u001b[38;5;33mDense\u001b[0m)                 │ (\u001b[38;5;45mNone\u001b[0m, \u001b[38;5;34m9\u001b[0m)              │           \u001b[38;5;34m414\u001b[0m │\n",
       "└─────────────────────────────────┴────────────────────────┴───────────────┘\n"
      ]
     },
     "metadata": {},
     "output_type": "display_data"
    },
    {
     "data": {
      "text/html": [
       "<pre style=\"white-space:pre;overflow-x:auto;line-height:normal;font-family:Menlo,'DejaVu Sans Mono',consolas,'Courier New',monospace\"><span style=\"font-weight: bold\"> Total params: </span><span style=\"color: #00af00; text-decoration-color: #00af00\">21,456</span> (83.81 KB)\n",
       "</pre>\n"
      ],
      "text/plain": [
       "\u001b[1m Total params: \u001b[0m\u001b[38;5;34m21,456\u001b[0m (83.81 KB)\n"
      ]
     },
     "metadata": {},
     "output_type": "display_data"
    },
    {
     "data": {
      "text/html": [
       "<pre style=\"white-space:pre;overflow-x:auto;line-height:normal;font-family:Menlo,'DejaVu Sans Mono',consolas,'Courier New',monospace\"><span style=\"font-weight: bold\"> Trainable params: </span><span style=\"color: #00af00; text-decoration-color: #00af00\">21,456</span> (83.81 KB)\n",
       "</pre>\n"
      ],
      "text/plain": [
       "\u001b[1m Trainable params: \u001b[0m\u001b[38;5;34m21,456\u001b[0m (83.81 KB)\n"
      ]
     },
     "metadata": {},
     "output_type": "display_data"
    },
    {
     "data": {
      "text/html": [
       "<pre style=\"white-space:pre;overflow-x:auto;line-height:normal;font-family:Menlo,'DejaVu Sans Mono',consolas,'Courier New',monospace\"><span style=\"font-weight: bold\"> Non-trainable params: </span><span style=\"color: #00af00; text-decoration-color: #00af00\">0</span> (0.00 B)\n",
       "</pre>\n"
      ],
      "text/plain": [
       "\u001b[1m Non-trainable params: \u001b[0m\u001b[38;5;34m0\u001b[0m (0.00 B)\n"
      ]
     },
     "metadata": {},
     "output_type": "display_data"
    },
    {
     "name": "stdout",
     "output_type": "stream",
     "text": [
      "Epoch 1/25\n",
      "\u001b[1m1282/1283\u001b[0m \u001b[32m━━━━━━━━━━━━━━━━━━━\u001b[0m\u001b[37m━\u001b[0m \u001b[1m0s\u001b[0m 44ms/step - categorical_accuracy: 0.3740 - loss: 1.6587"
     ]
    },
    {
     "name": "stderr",
     "output_type": "stream",
     "text": [
      "/home/flo/python_projects/bike_forecast_kl/network_training/network_generator.py:91: FutureWarning: Calling int on a single element Series is deprecated and will raise a TypeError in the future. Use int(ser.iloc[0]) instead\n",
      "  y_batch[i][int(y_data.iloc[j])] = 1\n",
      "WARNING:absl:You are saving your model as an HDF5 file via `model.save()` or `keras.saving.save_model(model)`. This file format is considered legacy. We recommend using instead the native Keras format, e.g. `model.save('my_model.keras')` or `keras.saving.save_model(model, 'my_model.keras')`. \n"
     ]
    },
    {
     "name": "stdout",
     "output_type": "stream",
     "text": [
      "\u001b[1m1283/1283\u001b[0m \u001b[32m━━━━━━━━━━━━━━━━━━━━\u001b[0m\u001b[37m\u001b[0m \u001b[1m238s\u001b[0m 181ms/step - categorical_accuracy: 0.3743 - loss: 1.6579 - val_categorical_accuracy: 0.8421 - val_loss: 0.6067\n",
      "Epoch 2/25\n",
      "\u001b[1m1283/1283\u001b[0m \u001b[32m━━━━━━━━━━━━━━━━━━━━\u001b[0m\u001b[37m\u001b[0m \u001b[1m0s\u001b[0m 44ms/step - categorical_accuracy: 0.8433 - loss: 0.5940"
     ]
    },
    {
     "name": "stderr",
     "output_type": "stream",
     "text": [
      "WARNING:absl:You are saving your model as an HDF5 file via `model.save()` or `keras.saving.save_model(model)`. This file format is considered legacy. We recommend using instead the native Keras format, e.g. `model.save('my_model.keras')` or `keras.saving.save_model(model, 'my_model.keras')`. \n"
     ]
    },
    {
     "name": "stdout",
     "output_type": "stream",
     "text": [
      "\u001b[1m1283/1283\u001b[0m \u001b[32m━━━━━━━━━━━━━━━━━━━━\u001b[0m\u001b[37m\u001b[0m \u001b[1m58s\u001b[0m 45ms/step - categorical_accuracy: 0.8433 - loss: 0.5940 - val_categorical_accuracy: 0.8581 - val_loss: 0.5345\n",
      "Epoch 3/25\n",
      "\u001b[1m1283/1283\u001b[0m \u001b[32m━━━━━━━━━━━━━━━━━━━━\u001b[0m\u001b[37m\u001b[0m \u001b[1m0s\u001b[0m 44ms/step - categorical_accuracy: 0.8750 - loss: 0.4980"
     ]
    },
    {
     "name": "stderr",
     "output_type": "stream",
     "text": [
      "WARNING:absl:You are saving your model as an HDF5 file via `model.save()` or `keras.saving.save_model(model)`. This file format is considered legacy. We recommend using instead the native Keras format, e.g. `model.save('my_model.keras')` or `keras.saving.save_model(model, 'my_model.keras')`. \n"
     ]
    },
    {
     "name": "stdout",
     "output_type": "stream",
     "text": [
      "\u001b[1m1283/1283\u001b[0m \u001b[32m━━━━━━━━━━━━━━━━━━━━\u001b[0m\u001b[37m\u001b[0m \u001b[1m58s\u001b[0m 46ms/step - categorical_accuracy: 0.8751 - loss: 0.4980 - val_categorical_accuracy: 0.8789 - val_loss: 0.5156\n",
      "Epoch 4/25\n",
      "\u001b[1m1283/1283\u001b[0m \u001b[32m━━━━━━━━━━━━━━━━━━━━\u001b[0m\u001b[37m\u001b[0m \u001b[1m0s\u001b[0m 45ms/step - categorical_accuracy: 0.8896 - loss: 0.4570"
     ]
    },
    {
     "name": "stderr",
     "output_type": "stream",
     "text": [
      "WARNING:absl:You are saving your model as an HDF5 file via `model.save()` or `keras.saving.save_model(model)`. This file format is considered legacy. We recommend using instead the native Keras format, e.g. `model.save('my_model.keras')` or `keras.saving.save_model(model, 'my_model.keras')`. \n"
     ]
    },
    {
     "name": "stdout",
     "output_type": "stream",
     "text": [
      "\u001b[1m1283/1283\u001b[0m \u001b[32m━━━━━━━━━━━━━━━━━━━━\u001b[0m\u001b[37m\u001b[0m \u001b[1m59s\u001b[0m 46ms/step - categorical_accuracy: 0.8896 - loss: 0.4570 - val_categorical_accuracy: 0.8836 - val_loss: 0.4918\n",
      "Epoch 5/25\n",
      "\u001b[1m1283/1283\u001b[0m \u001b[32m━━━━━━━━━━━━━━━━━━━━\u001b[0m\u001b[37m\u001b[0m \u001b[1m0s\u001b[0m 45ms/step - categorical_accuracy: 0.8998 - loss: 0.4248"
     ]
    },
    {
     "name": "stderr",
     "output_type": "stream",
     "text": [
      "WARNING:absl:You are saving your model as an HDF5 file via `model.save()` or `keras.saving.save_model(model)`. This file format is considered legacy. We recommend using instead the native Keras format, e.g. `model.save('my_model.keras')` or `keras.saving.save_model(model, 'my_model.keras')`. \n"
     ]
    },
    {
     "name": "stdout",
     "output_type": "stream",
     "text": [
      "\u001b[1m1283/1283\u001b[0m \u001b[32m━━━━━━━━━━━━━━━━━━━━\u001b[0m\u001b[37m\u001b[0m \u001b[1m60s\u001b[0m 47ms/step - categorical_accuracy: 0.8998 - loss: 0.4248 - val_categorical_accuracy: 0.8846 - val_loss: 0.4802\n",
      "Epoch 6/25\n",
      "\u001b[1m1283/1283\u001b[0m \u001b[32m━━━━━━━━━━━━━━━━━━━━\u001b[0m\u001b[37m\u001b[0m \u001b[1m56s\u001b[0m 44ms/step - categorical_accuracy: 0.9051 - loss: 0.4121 - val_categorical_accuracy: 0.8848 - val_loss: 0.4805\n",
      "Epoch 7/25\n",
      "\u001b[1m1282/1283\u001b[0m \u001b[32m━━━━━━━━━━━━━━━━━━━\u001b[0m\u001b[37m━\u001b[0m \u001b[1m0s\u001b[0m 44ms/step - categorical_accuracy: 0.9089 - loss: 0.3977"
     ]
    },
    {
     "name": "stderr",
     "output_type": "stream",
     "text": [
      "WARNING:absl:You are saving your model as an HDF5 file via `model.save()` or `keras.saving.save_model(model)`. This file format is considered legacy. We recommend using instead the native Keras format, e.g. `model.save('my_model.keras')` or `keras.saving.save_model(model, 'my_model.keras')`. \n"
     ]
    },
    {
     "name": "stdout",
     "output_type": "stream",
     "text": [
      "\u001b[1m1283/1283\u001b[0m \u001b[32m━━━━━━━━━━━━━━━━━━━━\u001b[0m\u001b[37m\u001b[0m \u001b[1m59s\u001b[0m 46ms/step - categorical_accuracy: 0.9089 - loss: 0.3977 - val_categorical_accuracy: 0.8862 - val_loss: 0.4711\n",
      "Epoch 8/25\n",
      "\u001b[1m1283/1283\u001b[0m \u001b[32m━━━━━━━━━━━━━━━━━━━━\u001b[0m\u001b[37m\u001b[0m \u001b[1m0s\u001b[0m 44ms/step - categorical_accuracy: 0.9122 - loss: 0.3863"
     ]
    },
    {
     "name": "stderr",
     "output_type": "stream",
     "text": [
      "WARNING:absl:You are saving your model as an HDF5 file via `model.save()` or `keras.saving.save_model(model)`. This file format is considered legacy. We recommend using instead the native Keras format, e.g. `model.save('my_model.keras')` or `keras.saving.save_model(model, 'my_model.keras')`. \n"
     ]
    },
    {
     "name": "stdout",
     "output_type": "stream",
     "text": [
      "\u001b[1m1283/1283\u001b[0m \u001b[32m━━━━━━━━━━━━━━━━━━━━\u001b[0m\u001b[37m\u001b[0m \u001b[1m58s\u001b[0m 46ms/step - categorical_accuracy: 0.9122 - loss: 0.3863 - val_categorical_accuracy: 0.8859 - val_loss: 0.4663\n",
      "Epoch 9/25\n",
      "\u001b[1m1283/1283\u001b[0m \u001b[32m━━━━━━━━━━━━━━━━━━━━\u001b[0m\u001b[37m\u001b[0m \u001b[1m58s\u001b[0m 45ms/step - categorical_accuracy: 0.9147 - loss: 0.3778 - val_categorical_accuracy: 0.8867 - val_loss: 0.4694\n",
      "Epoch 10/25\n",
      "\u001b[1m1283/1283\u001b[0m \u001b[32m━━━━━━━━━━━━━━━━━━━━\u001b[0m\u001b[37m\u001b[0m \u001b[1m0s\u001b[0m 45ms/step - categorical_accuracy: 0.9166 - loss: 0.3723"
     ]
    },
    {
     "name": "stderr",
     "output_type": "stream",
     "text": [
      "WARNING:absl:You are saving your model as an HDF5 file via `model.save()` or `keras.saving.save_model(model)`. This file format is considered legacy. We recommend using instead the native Keras format, e.g. `model.save('my_model.keras')` or `keras.saving.save_model(model, 'my_model.keras')`. \n"
     ]
    },
    {
     "name": "stdout",
     "output_type": "stream",
     "text": [
      "\u001b[1m1283/1283\u001b[0m \u001b[32m━━━━━━━━━━━━━━━━━━━━\u001b[0m\u001b[37m\u001b[0m \u001b[1m59s\u001b[0m 46ms/step - categorical_accuracy: 0.9166 - loss: 0.3723 - val_categorical_accuracy: 0.8866 - val_loss: 0.4595\n",
      "Epoch 11/25\n",
      "\u001b[1m1283/1283\u001b[0m \u001b[32m━━━━━━━━━━━━━━━━━━━━\u001b[0m\u001b[37m\u001b[0m \u001b[1m59s\u001b[0m 46ms/step - categorical_accuracy: 0.9183 - loss: 0.3665 - val_categorical_accuracy: 0.8855 - val_loss: 0.4657\n",
      "Epoch 12/25\n",
      "\u001b[1m1283/1283\u001b[0m \u001b[32m━━━━━━━━━━━━━━━━━━━━\u001b[0m\u001b[37m\u001b[0m \u001b[1m0s\u001b[0m 43ms/step - categorical_accuracy: 0.9178 - loss: 0.3662"
     ]
    },
    {
     "name": "stderr",
     "output_type": "stream",
     "text": [
      "WARNING:absl:You are saving your model as an HDF5 file via `model.save()` or `keras.saving.save_model(model)`. This file format is considered legacy. We recommend using instead the native Keras format, e.g. `model.save('my_model.keras')` or `keras.saving.save_model(model, 'my_model.keras')`. \n"
     ]
    },
    {
     "name": "stdout",
     "output_type": "stream",
     "text": [
      "\u001b[1m1283/1283\u001b[0m \u001b[32m━━━━━━━━━━━━━━━━━━━━\u001b[0m\u001b[37m\u001b[0m \u001b[1m57s\u001b[0m 45ms/step - categorical_accuracy: 0.9178 - loss: 0.3662 - val_categorical_accuracy: 0.8864 - val_loss: 0.4560\n",
      "Epoch 13/25\n",
      "\u001b[1m1283/1283\u001b[0m \u001b[32m━━━━━━━━━━━━━━━━━━━━\u001b[0m\u001b[37m\u001b[0m \u001b[1m58s\u001b[0m 45ms/step - categorical_accuracy: 0.9184 - loss: 0.3657 - val_categorical_accuracy: 0.8867 - val_loss: 0.4583\n",
      "Epoch 14/25\n",
      "\u001b[1m1283/1283\u001b[0m \u001b[32m━━━━━━━━━━━━━━━━━━━━\u001b[0m\u001b[37m\u001b[0m \u001b[1m58s\u001b[0m 45ms/step - categorical_accuracy: 0.9196 - loss: 0.3599 - val_categorical_accuracy: 0.8862 - val_loss: 0.4564\n",
      "Epoch 15/25\n",
      "\u001b[1m1283/1283\u001b[0m \u001b[32m━━━━━━━━━━━━━━━━━━━━\u001b[0m\u001b[37m\u001b[0m \u001b[1m56s\u001b[0m 44ms/step - categorical_accuracy: 0.9208 - loss: 0.3548 - val_categorical_accuracy: 0.8869 - val_loss: 0.4562\n",
      "Epoch 16/25\n",
      "\u001b[1m1282/1283\u001b[0m \u001b[32m━━━━━━━━━━━━━━━━━━━\u001b[0m\u001b[37m━\u001b[0m \u001b[1m0s\u001b[0m 44ms/step - categorical_accuracy: 0.9191 - loss: 0.3593"
     ]
    },
    {
     "name": "stderr",
     "output_type": "stream",
     "text": [
      "WARNING:absl:You are saving your model as an HDF5 file via `model.save()` or `keras.saving.save_model(model)`. This file format is considered legacy. We recommend using instead the native Keras format, e.g. `model.save('my_model.keras')` or `keras.saving.save_model(model, 'my_model.keras')`. \n"
     ]
    },
    {
     "name": "stdout",
     "output_type": "stream",
     "text": [
      "\u001b[1m1283/1283\u001b[0m \u001b[32m━━━━━━━━━━━━━━━━━━━━\u001b[0m\u001b[37m\u001b[0m \u001b[1m59s\u001b[0m 46ms/step - categorical_accuracy: 0.9191 - loss: 0.3593 - val_categorical_accuracy: 0.8864 - val_loss: 0.4516\n",
      "Epoch 17/25\n",
      "\u001b[1m1283/1283\u001b[0m \u001b[32m━━━━━━━━━━━━━━━━━━━━\u001b[0m\u001b[37m\u001b[0m \u001b[1m58s\u001b[0m 46ms/step - categorical_accuracy: 0.9204 - loss: 0.3540 - val_categorical_accuracy: 0.8858 - val_loss: 0.4550\n",
      "Epoch 18/25\n",
      "\u001b[1m1283/1283\u001b[0m \u001b[32m━━━━━━━━━━━━━━━━━━━━\u001b[0m\u001b[37m\u001b[0m \u001b[1m58s\u001b[0m 46ms/step - categorical_accuracy: 0.9205 - loss: 0.3524 - val_categorical_accuracy: 0.8859 - val_loss: 0.4546\n",
      "Epoch 19/25\n",
      "\u001b[1m1282/1283\u001b[0m \u001b[32m━━━━━━━━━━━━━━━━━━━\u001b[0m\u001b[37m━\u001b[0m \u001b[1m0s\u001b[0m 44ms/step - categorical_accuracy: 0.9205 - loss: 0.3513"
     ]
    },
    {
     "name": "stderr",
     "output_type": "stream",
     "text": [
      "WARNING:absl:You are saving your model as an HDF5 file via `model.save()` or `keras.saving.save_model(model)`. This file format is considered legacy. We recommend using instead the native Keras format, e.g. `model.save('my_model.keras')` or `keras.saving.save_model(model, 'my_model.keras')`. \n"
     ]
    },
    {
     "name": "stdout",
     "output_type": "stream",
     "text": [
      "\u001b[1m1283/1283\u001b[0m \u001b[32m━━━━━━━━━━━━━━━━━━━━\u001b[0m\u001b[37m\u001b[0m \u001b[1m58s\u001b[0m 45ms/step - categorical_accuracy: 0.9205 - loss: 0.3513 - val_categorical_accuracy: 0.8860 - val_loss: 0.4514\n",
      "Epoch 20/25\n",
      "\u001b[1m1283/1283\u001b[0m \u001b[32m━━━━━━━━━━━━━━━━━━━━\u001b[0m\u001b[37m\u001b[0m \u001b[1m58s\u001b[0m 45ms/step - categorical_accuracy: 0.9205 - loss: 0.3541 - val_categorical_accuracy: 0.8859 - val_loss: 0.4582\n",
      "Epoch 21/25\n",
      "\u001b[1m1283/1283\u001b[0m \u001b[32m━━━━━━━━━━━━━━━━━━━━\u001b[0m\u001b[37m\u001b[0m \u001b[1m58s\u001b[0m 45ms/step - categorical_accuracy: 0.9214 - loss: 0.3494 - val_categorical_accuracy: 0.8872 - val_loss: 0.4544\n",
      "Epoch 22/25\n",
      "\u001b[1m1283/1283\u001b[0m \u001b[32m━━━━━━━━━━━━━━━━━━━━\u001b[0m\u001b[37m\u001b[0m \u001b[1m0s\u001b[0m 44ms/step - categorical_accuracy: 0.9222 - loss: 0.3472"
     ]
    },
    {
     "name": "stderr",
     "output_type": "stream",
     "text": [
      "WARNING:absl:You are saving your model as an HDF5 file via `model.save()` or `keras.saving.save_model(model)`. This file format is considered legacy. We recommend using instead the native Keras format, e.g. `model.save('my_model.keras')` or `keras.saving.save_model(model, 'my_model.keras')`. \n"
     ]
    },
    {
     "name": "stdout",
     "output_type": "stream",
     "text": [
      "\u001b[1m1283/1283\u001b[0m \u001b[32m━━━━━━━━━━━━━━━━━━━━\u001b[0m\u001b[37m\u001b[0m \u001b[1m58s\u001b[0m 45ms/step - categorical_accuracy: 0.9222 - loss: 0.3472 - val_categorical_accuracy: 0.8863 - val_loss: 0.4491\n",
      "Epoch 23/25\n",
      "\u001b[1m1283/1283\u001b[0m \u001b[32m━━━━━━━━━━━━━━━━━━━━\u001b[0m\u001b[37m\u001b[0m \u001b[1m58s\u001b[0m 45ms/step - categorical_accuracy: 0.9215 - loss: 0.3465 - val_categorical_accuracy: 0.8862 - val_loss: 0.4547\n",
      "Epoch 24/25\n",
      "\u001b[1m1283/1283\u001b[0m \u001b[32m━━━━━━━━━━━━━━━━━━━━\u001b[0m\u001b[37m\u001b[0m \u001b[1m59s\u001b[0m 46ms/step - categorical_accuracy: 0.9206 - loss: 0.3495 - val_categorical_accuracy: 0.8859 - val_loss: 0.4542\n",
      "Epoch 25/25\n",
      "\u001b[1m1283/1283\u001b[0m \u001b[32m━━━━━━━━━━━━━━━━━━━━\u001b[0m\u001b[37m\u001b[0m \u001b[1m58s\u001b[0m 45ms/step - categorical_accuracy: 0.9206 - loss: 0.3514 - val_categorical_accuracy: 0.8861 - val_loss: 0.4496\n"
     ]
    }
   ],
   "source": [
    "gru = Sequential()\n",
    "gru.add(keras.layers.GRU(input_dims,\n",
    "                     recurrent_dropout=0.5, \n",
    "                     return_sequences=True, \n",
    "                     input_shape = ( x_batch.shape[1], x_batch.shape[2] )  )\n",
    "         )\n",
    "\n",
    "gru.add(keras.layers.GRU(4*input_dims+1,\n",
    "                      dropout=0.1,\n",
    "                      recurrent_dropout=0.5,\n",
    "                      activation = 'relu',\n",
    "                      return_sequences=True)\n",
    "          )\n",
    "\n",
    "gru.add(keras.layers.GRU(4*input_dims+1,\n",
    "                      dropout=0.1,\n",
    "                      recurrent_dropout=0.5, \n",
    "                      activation = 'relu'\n",
    "                      )\n",
    "          )\n",
    "\n",
    "gru.add(keras.layers.Dense(output_dims, activation = 'softmax'))\n",
    "gru.summary()\n",
    "\n",
    "network_gen.register_network(gru)\n",
    "network_gen.model.compile(optimizer = sgd_optimizer, loss = 'categorical_crossentropy', metrics = ['categorical_accuracy'])\n",
    "results = network_gen.train_network(validation_data = val_data_generator, epochs = 25, train_data = train_data_generator)"
   ]
  },
  {
   "cell_type": "markdown",
   "id": "5af1460f",
   "metadata": {},
   "source": [
    "## Print Training Results"
   ]
  },
  {
   "cell_type": "code",
   "execution_count": 9,
   "id": "879b0933",
   "metadata": {},
   "outputs": [
    {
     "data": {
      "image/png": "[encoded data removed]",
      "text/plain": [
       "<Figure size 1500x500 with 1 Axes>"
      ]
     },
     "metadata": {},
     "output_type": "display_data"
    }
   ],
   "source": [
    "network_gen.print_training(results)"
   ]
  },
  {
   "cell_type": "markdown",
   "id": "fc6c7b0d",
   "metadata": {},
   "source": [
    "## Test Network and Create Metrics"
   ]
  },
  {
   "cell_type": "code",
   "execution_count": 10,
   "id": "b6fd5854",
   "metadata": {},
   "outputs": [
    {
     "data": {
      "text/html": [
       "<pre style=\"white-space:pre;overflow-x:auto;line-height:normal;font-family:Menlo,'DejaVu Sans Mono',consolas,'Courier New',monospace\"><span style=\"font-weight: bold\">Model: \"sequential_1\"</span>\n",
       "</pre>\n"
      ],
      "text/plain": [
       "\u001b[1mModel: \"sequential_1\"\u001b[0m\n"
      ]
     },
     "metadata": {},
     "output_type": "display_data"
    },
    {
     "data": {
      "text/html": [
       "<pre style=\"white-space:pre;overflow-x:auto;line-height:normal;font-family:Menlo,'DejaVu Sans Mono',consolas,'Courier New',monospace\">┏━━━━━━━━━━━━━━━━━━━━━━━━━━━━━━━━━┳━━━━━━━━━━━━━━━━━━━━━━━━┳━━━━━━━━━━━━━━━┓\n",
       "┃<span style=\"font-weight: bold\"> Layer (type)                    </span>┃<span style=\"font-weight: bold\"> Output Shape           </span>┃<span style=\"font-weight: bold\">       Param # </span>┃\n",
       "┡━━━━━━━━━━━━━━━━━━━━━━━━━━━━━━━━━╇━━━━━━━━━━━━━━━━━━━━━━━━╇━━━━━━━━━━━━━━━┩\n",
       "│ gru_3 (<span style=\"color: #0087ff; text-decoration-color: #0087ff\">GRU</span>)                     │ (<span style=\"color: #00d7ff; text-decoration-color: #00d7ff\">None</span>, <span style=\"color: #00af00; text-decoration-color: #00af00\">3</span>, <span style=\"color: #00af00; text-decoration-color: #00af00\">11</span>)          │           <span style=\"color: #00af00; text-decoration-color: #00af00\">792</span> │\n",
       "├─────────────────────────────────┼────────────────────────┼───────────────┤\n",
       "│ gru_4 (<span style=\"color: #0087ff; text-decoration-color: #0087ff\">GRU</span>)                     │ (<span style=\"color: #00d7ff; text-decoration-color: #00d7ff\">None</span>, <span style=\"color: #00af00; text-decoration-color: #00af00\">3</span>, <span style=\"color: #00af00; text-decoration-color: #00af00\">45</span>)          │         <span style=\"color: #00af00; text-decoration-color: #00af00\">7,830</span> │\n",
       "├─────────────────────────────────┼────────────────────────┼───────────────┤\n",
       "│ gru_5 (<span style=\"color: #0087ff; text-decoration-color: #0087ff\">GRU</span>)                     │ (<span style=\"color: #00d7ff; text-decoration-color: #00d7ff\">None</span>, <span style=\"color: #00af00; text-decoration-color: #00af00\">45</span>)             │        <span style=\"color: #00af00; text-decoration-color: #00af00\">12,420</span> │\n",
       "├─────────────────────────────────┼────────────────────────┼───────────────┤\n",
       "│ dense_1 (<span style=\"color: #0087ff; text-decoration-color: #0087ff\">Dense</span>)                 │ (<span style=\"color: #00d7ff; text-decoration-color: #00d7ff\">None</span>, <span style=\"color: #00af00; text-decoration-color: #00af00\">9</span>)              │           <span style=\"color: #00af00; text-decoration-color: #00af00\">414</span> │\n",
       "└─────────────────────────────────┴────────────────────────┴───────────────┘\n",
       "</pre>\n"
      ],
      "text/plain": [
       "┏━━━━━━━━━━━━━━━━━━━━━━━━━━━━━━━━━┳━━━━━━━━━━━━━━━━━━━━━━━━┳━━━━━━━━━━━━━━━┓\n",
       "┃\u001b[1m \u001b[0m\u001b[1mLayer (type)                   \u001b[0m\u001b[1m \u001b[0m┃\u001b[1m \u001b[0m\u001b[1mOutput Shape          \u001b[0m\u001b[1m \u001b[0m┃\u001b[1m \u001b[0m\u001b[1m      Param #\u001b[0m\u001b[1m \u001b[0m┃\n",
       "┡━━━━━━━━━━━━━━━━━━━━━━━━━━━━━━━━━╇━━━━━━━━━━━━━━━━━━━━━━━━╇━━━━━━━━━━━━━━━┩\n",
       "│ gru_3 (\u001b[38;5;33mGRU\u001b[0m)                     │ (\u001b[38;5;45mNone\u001b[0m, \u001b[38;5;34m3\u001b[0m, \u001b[38;5;34m11\u001b[0m)          │           \u001b[38;5;34m792\u001b[0m │\n",
       "├─────────────────────────────────┼────────────────────────┼───────────────┤\n",
       "│ gru_4 (\u001b[38;5;33mGRU\u001b[0m)                     │ (\u001b[38;5;45mNone\u001b[0m, \u001b[38;5;34m3\u001b[0m, \u001b[38;5;34m45\u001b[0m)          │         \u001b[38;5;34m7,830\u001b[0m │\n",
       "├─────────────────────────────────┼────────────────────────┼───────────────┤\n",
       "│ gru_5 (\u001b[38;5;33mGRU\u001b[0m)                     │ (\u001b[38;5;45mNone\u001b[0m, \u001b[38;5;34m45\u001b[0m)             │        \u001b[38;5;34m12,420\u001b[0m │\n",
       "├─────────────────────────────────┼────────────────────────┼───────────────┤\n",
       "│ dense_1 (\u001b[38;5;33mDense\u001b[0m)                 │ (\u001b[38;5;45mNone\u001b[0m, \u001b[38;5;34m9\u001b[0m)              │           \u001b[38;5;34m414\u001b[0m │\n",
       "└─────────────────────────────────┴────────────────────────┴───────────────┘\n"
      ]
     },
     "metadata": {},
     "output_type": "display_data"
    },
    {
     "data": {
      "text/html": [
       "<pre style=\"white-space:pre;overflow-x:auto;line-height:normal;font-family:Menlo,'DejaVu Sans Mono',consolas,'Courier New',monospace\"><span style=\"font-weight: bold\"> Total params: </span><span style=\"color: #00af00; text-decoration-color: #00af00\">42,914</span> (167.64 KB)\n",
       "</pre>\n"
      ],
      "text/plain": [
       "\u001b[1m Total params: \u001b[0m\u001b[38;5;34m42,914\u001b[0m (167.64 KB)\n"
      ]
     },
     "metadata": {},
     "output_type": "display_data"
    },
    {
     "data": {
      "text/html": [
       "<pre style=\"white-space:pre;overflow-x:auto;line-height:normal;font-family:Menlo,'DejaVu Sans Mono',consolas,'Courier New',monospace\"><span style=\"font-weight: bold\"> Trainable params: </span><span style=\"color: #00af00; text-decoration-color: #00af00\">21,456</span> (83.81 KB)\n",
       "</pre>\n"
      ],
      "text/plain": [
       "\u001b[1m Trainable params: \u001b[0m\u001b[38;5;34m21,456\u001b[0m (83.81 KB)\n"
      ]
     },
     "metadata": {},
     "output_type": "display_data"
    },
    {
     "data": {
      "text/html": [
       "<pre style=\"white-space:pre;overflow-x:auto;line-height:normal;font-family:Menlo,'DejaVu Sans Mono',consolas,'Courier New',monospace\"><span style=\"font-weight: bold\"> Non-trainable params: </span><span style=\"color: #00af00; text-decoration-color: #00af00\">0</span> (0.00 B)\n",
       "</pre>\n"
      ],
      "text/plain": [
       "\u001b[1m Non-trainable params: \u001b[0m\u001b[38;5;34m0\u001b[0m (0.00 B)\n"
      ]
     },
     "metadata": {},
     "output_type": "display_data"
    },
    {
     "data": {
      "text/html": [
       "<pre style=\"white-space:pre;overflow-x:auto;line-height:normal;font-family:Menlo,'DejaVu Sans Mono',consolas,'Courier New',monospace\"><span style=\"font-weight: bold\"> Optimizer params: </span><span style=\"color: #00af00; text-decoration-color: #00af00\">21,458</span> (83.82 KB)\n",
       "</pre>\n"
      ],
      "text/plain": [
       "\u001b[1m Optimizer params: \u001b[0m\u001b[38;5;34m21,458\u001b[0m (83.82 KB)\n"
      ]
     },
     "metadata": {},
     "output_type": "display_data"
    },
    {
     "name": "stdout",
     "output_type": "stream",
     "text": [
      "\u001b[1m17597/17597\u001b[0m \u001b[32m━━━━━━━━━━━━━━━━━━━━\u001b[0m\u001b[37m\u001b[0m \u001b[1m49s\u001b[0m 3ms/step - categorical_accuracy: 0.8989 - loss: 0.4081\n",
      "\u001b[1m17597/17597\u001b[0m \u001b[32m━━━━━━━━━━━━━━━━━━━━\u001b[0m\u001b[37m\u001b[0m \u001b[1m41s\u001b[0m 2ms/step\n",
      "Confusion Matrix\n",
      "[[ 84110   3588    514     99     26     10      4      1      3]\n",
      " [  3528  68092   3479    536     93     25     10      2      0]\n",
      " [   419   3384  55620   3242    487     82     20      6      4]\n",
      " [   105    487   3110  47286   2700    473    105     35     32]\n",
      " [    56    101    360   2588  39385   2681    417     81     80]\n",
      " [    18     52     83    373   2477  30158   3352    385    156]\n",
      " [    28     33     56    107    368   2229  25631   1969    504]\n",
      " [     6      9     16     33     65    293   2101  24635   2124]\n",
      " [    38     49     29     36     41     98    428   2184 135453]]\n",
      "Klassifikations Report\n",
      "0.9063850267189739\n",
      "Akkuratheit der Klassifikation\n",
      "              precision    recall  f1-score   support\n",
      "\n",
      "           0       0.95      0.95      0.95     88355\n",
      "           1       0.90      0.90      0.90     75765\n",
      "           2       0.88      0.88      0.88     63264\n",
      "           3       0.87      0.87      0.87     54333\n",
      "           4       0.86      0.86      0.86     45749\n",
      "           5       0.84      0.81      0.83     37054\n",
      "           6       0.80      0.83      0.81     30925\n",
      "           7       0.84      0.84      0.84     29282\n",
      "           8       0.98      0.98      0.98    138356\n",
      "\n",
      "    accuracy                           0.91    563083\n",
      "   macro avg       0.88      0.88      0.88    563083\n",
      "weighted avg       0.91      0.91      0.91    563083\n",
      "\n"
     ]
    }
   ],
   "source": [
    "x_batch, y_batch = next(test_data_generator)\n",
    "network_gen.test_predictions(network_gen.model, x_batch, y_batch, True)"
   ]
  }
 ],
 "metadata": {
  "kernelspec": {
   "display_name": "ml",
   "language": "python",
   "name": "python3"
  },
  "language_info": {
   "codemirror_mode": {
    "name": "ipython",
    "version": 3
   },
   "file_extension": ".py",
   "mimetype": "text/x-python",
   "name": "python",
   "nbconvert_exporter": "python",
   "pygments_lexer": "ipython3",
   "version": "3.12.3"
  }
 },
 "nbformat": 4,
 "nbformat_minor": 5
}
