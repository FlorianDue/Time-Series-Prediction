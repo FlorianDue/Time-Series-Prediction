{
 "cells": [
  {
   "cell_type": "markdown",
   "id": "23828922",
   "metadata": {},
   "source": [
    "## LSTM Network predictions"
   ]
  },
  {
   "cell_type": "code",
   "execution_count": 1,
   "id": "e33dce3e",
   "metadata": {},
   "outputs": [
    {
     "name": "stderr",
     "output_type": "stream",
     "text": [
      "2025-06-23 19:27:50.551626: I tensorflow/core/platform/cpu_feature_guard.cc:210] This TensorFlow binary is optimized to use available CPU instructions in performance-critical operations.\n",
      "To enable the following instructions: AVX2 AVX_VNNI FMA, in other operations, rebuild TensorFlow with the appropriate compiler flags.\n"
     ]
    }
   ],
   "source": [
    "##create the classes and prepare the data\n",
    "import os, sys\n",
    "\n",
    "sys.path.append(os.path.abspath(\"../data_set_generator\"))\n",
    "sys.path.append(os.path.abspath(\"../network_training\"))\n",
    "sys.path.append(os.path.abspath(\"../data_preprocessing\"))\n",
    "sys.path.append(os.path.abspath(\"../data\"))\n",
    "\n",
    "\n",
    "project_root = os.path.abspath(os.path.join(os.getcwd(), \"..\"))\n",
    "if project_root not in sys.path:\n",
    "    sys.path.insert(0, project_root)\n",
    "\n",
    "\n",
    "os.environ[\"CUDA_VISIBLE_DEVICES\"] = \"-1\"\n",
    "os.environ[\"TF_ENABLE_ONEDNN_OPTS\"] = \"0\"\n",
    "import keras\n",
    "from keras import optimizers\n",
    "from keras.models import Sequential\n",
    "from data_set_generator.bike_prediction import DataGenerator\n",
    "from data_set_generator.data_config import BikeDataConfig\n",
    "from network_training.network_generator import NetworkGenerator\n",
    "from network_training.callbacks import Callbacks\n",
    "\n",
    "classes = 8\n",
    "conf = BikeDataConfig(bikes_path = './/../data//bikes.csv', weather_path = './/../data//weather.csv', highest_class = classes)\n",
    "FFN_logs_base_dir='./Modellcheckpoints/lstm/'\n",
    "os.makedirs(FFN_logs_base_dir, exist_ok=True)\n",
    "FFN_log_dir=os.path.join(FFN_logs_base_dir, '_LSTM.h5')\n",
    "callbacks = Callbacks(filepath = FFN_log_dir)\n",
    "\n",
    "\n",
    "batch_size = 256\n",
    "input_dims = 11\n",
    "output_dims = classes + 1 \n",
    "sequence_length = 3\n",
    "adam_optimizer = optimizers.Adam(learning_rate = 1e-4, beta_1=1- 1e-4, amsgrad = True)\n",
    "sgd_optimizer = optimizers.SGD(learning_rate = 1e-2,  momentum = 0.9, nesterov = True)\n",
    "\n",
    "network_gen = NetworkGenerator(data_generator = conf.d_gen, callbacks = callbacks, history_length = sequence_length)"
   ]
  },
  {
   "cell_type": "markdown",
   "id": "0b590707",
   "metadata": {},
   "source": [
    "## Create Batch Generators"
   ]
  },
  {
   "cell_type": "code",
   "execution_count": 2,
   "id": "aacd7613",
   "metadata": {},
   "outputs": [
    {
     "name": "stdout",
     "output_type": "stream",
     "text": [
      "[[[ 0.77469835  0.54316378  0.         ...  1.          0.21643961\n",
      "    0.97629601]\n",
      "  [ 0.77469835  0.54316378  0.         ...  1.          0.19509032\n",
      "    0.98078528]\n",
      "  [ 0.77469835  0.54316378  0.         ...  1.          0.17364818\n",
      "    0.98480775]]\n",
      "\n",
      " [[ 0.77468936  0.54317987  0.         ...  1.         -0.62592347\n",
      "   -0.77988448]\n",
      "  [ 0.77468936  0.54317987  0.         ...  1.         -0.60876143\n",
      "   -0.79335334]\n",
      "  [ 0.77468936  0.54317987  0.         ...  1.         -0.59130965\n",
      "   -0.8064446 ]]\n",
      "\n",
      " [[ 0.77468837  0.54314303  0.         ...  0.          0.64278761\n",
      "   -0.76604444]\n",
      "  [ 0.77468837  0.54314303  0.         ...  0.          0.65934582\n",
      "   -0.75183981]\n",
      "  [ 0.77468837  0.54314303  0.         ...  0.          0.67559021\n",
      "   -0.73727734]]\n",
      "\n",
      " ...\n",
      "\n",
      " [[ 0.77461529  0.54307175  0.         ...  1.         -0.76604444\n",
      "   -0.64278761]\n",
      "  [ 0.77461529  0.54307175  0.         ...  1.         -0.75183981\n",
      "   -0.65934582]\n",
      "  [ 0.77461529  0.54307175  0.         ...  1.         -0.73727734\n",
      "   -0.67559021]]\n",
      "\n",
      " [[ 0.77475748  0.54335612  0.         ...  1.         -0.87672676\n",
      "   -0.48098877]\n",
      "  [ 0.77475748  0.54335612  0.         ...  1.         -0.8660254\n",
      "   -0.5       ]\n",
      "  [ 0.77475748  0.54335612  0.         ...  1.         -0.85491187\n",
      "   -0.51877326]]\n",
      "\n",
      " [[ 0.7745871   0.54303512  0.         ...  1.         -0.88701083\n",
      "    0.46174861]\n",
      "  [ 0.7745871   0.54303512  0.         ...  1.         -0.89687274\n",
      "    0.44228869]\n",
      "  [ 0.7745871   0.54303512  0.         ...  1.         -0.90630779\n",
      "    0.42261826]]]\n",
      "[[1. 0. 0. ... 0. 0. 0.]\n",
      " [1. 0. 0. ... 0. 0. 0.]\n",
      " [0. 1. 0. ... 0. 0. 0.]\n",
      " ...\n",
      " [0. 0. 0. ... 0. 0. 1.]\n",
      " [1. 0. 0. ... 0. 0. 0.]\n",
      " [0. 0. 0. ... 0. 0. 0.]]\n"
     ]
    }
   ],
   "source": [
    "train_data_generator = network_gen.batch_generator(batch_size = batch_size, \n",
    "                             sequence_length = network_gen.history_length, \n",
    "                             x_data = network_gen.data_gen.train_list_x,\n",
    "                             y_data = network_gen.data_gen.train_list_y,\n",
    "                             min_index = 0,\n",
    "                             num_x_signals = input_dims,\n",
    "                             num_y_signals = output_dims,\n",
    "                             random = True)\n",
    "\n",
    "val_data_generator = network_gen.batch_generator(batch_size = batch_size, \n",
    "                             sequence_length = network_gen.history_length, \n",
    "                             x_data = network_gen.data_gen.vali_list_x,\n",
    "                             y_data = network_gen.data_gen.vali_list_y,\n",
    "                             min_index = 0,\n",
    "                             num_x_signals = input_dims,\n",
    "                             num_y_signals = output_dims,\n",
    "                             all_data = True)\n",
    "\n",
    "test_data_generator = network_gen.batch_generator(batch_size = batch_size, \n",
    "                             sequence_length = network_gen.history_length, \n",
    "                             x_data = network_gen.data_gen.test_list_x,\n",
    "                             y_data = network_gen.data_gen.test_list_y,\n",
    "                             min_index = 0,\n",
    "                             num_x_signals = input_dims,\n",
    "                             num_y_signals = output_dims,\n",
    "                             all_data = True)\n",
    "\n",
    "x_batch, y_batch = next(train_data_generator)\n",
    "print(x_batch)\n",
    "print(y_batch)"
   ]
  },
  {
   "cell_type": "markdown",
   "id": "6104fc00",
   "metadata": {},
   "source": [
    "## Define and Generate a LSTM Network"
   ]
  },
  {
   "cell_type": "code",
   "execution_count": 3,
   "id": "b8d494db",
   "metadata": {},
   "outputs": [
    {
     "name": "stderr",
     "output_type": "stream",
     "text": [
      "/home/flo/python_environments/ml/lib/python3.12/site-packages/keras/src/layers/rnn/rnn.py:199: UserWarning: Do not pass an `input_shape`/`input_dim` argument to a layer. When using Sequential models, prefer using an `Input(shape)` object as the first layer in the model instead.\n",
      "  super().__init__(**kwargs)\n"
     ]
    },
    {
     "data": {
      "text/html": [
       "<pre style=\"white-space:pre;overflow-x:auto;line-height:normal;font-family:Menlo,'DejaVu Sans Mono',consolas,'Courier New',monospace\"><span style=\"font-weight: bold\">Model: \"sequential\"</span>\n",
       "</pre>\n"
      ],
      "text/plain": [
       "\u001b[1mModel: \"sequential\"\u001b[0m\n"
      ]
     },
     "metadata": {},
     "output_type": "display_data"
    },
    {
     "data": {
      "text/html": [
       "<pre style=\"white-space:pre;overflow-x:auto;line-height:normal;font-family:Menlo,'DejaVu Sans Mono',consolas,'Courier New',monospace\">┏━━━━━━━━━━━━━━━━━━━━━━━━━━━━━━━━━┳━━━━━━━━━━━━━━━━━━━━━━━━┳━━━━━━━━━━━━━━━┓\n",
       "┃<span style=\"font-weight: bold\"> Layer (type)                    </span>┃<span style=\"font-weight: bold\"> Output Shape           </span>┃<span style=\"font-weight: bold\">       Param # </span>┃\n",
       "┡━━━━━━━━━━━━━━━━━━━━━━━━━━━━━━━━━╇━━━━━━━━━━━━━━━━━━━━━━━━╇━━━━━━━━━━━━━━━┩\n",
       "│ lstm (<span style=\"color: #0087ff; text-decoration-color: #0087ff\">LSTM</span>)                     │ (<span style=\"color: #00d7ff; text-decoration-color: #00d7ff\">None</span>, <span style=\"color: #00af00; text-decoration-color: #00af00\">3</span>, <span style=\"color: #00af00; text-decoration-color: #00af00\">11</span>)          │         <span style=\"color: #00af00; text-decoration-color: #00af00\">1,012</span> │\n",
       "├─────────────────────────────────┼────────────────────────┼───────────────┤\n",
       "│ lstm_1 (<span style=\"color: #0087ff; text-decoration-color: #0087ff\">LSTM</span>)                   │ (<span style=\"color: #00d7ff; text-decoration-color: #00d7ff\">None</span>, <span style=\"color: #00af00; text-decoration-color: #00af00\">3</span>, <span style=\"color: #00af00; text-decoration-color: #00af00\">45</span>)          │        <span style=\"color: #00af00; text-decoration-color: #00af00\">10,260</span> │\n",
       "├─────────────────────────────────┼────────────────────────┼───────────────┤\n",
       "│ lstm_2 (<span style=\"color: #0087ff; text-decoration-color: #0087ff\">LSTM</span>)                   │ (<span style=\"color: #00d7ff; text-decoration-color: #00d7ff\">None</span>, <span style=\"color: #00af00; text-decoration-color: #00af00\">45</span>)             │        <span style=\"color: #00af00; text-decoration-color: #00af00\">16,380</span> │\n",
       "├─────────────────────────────────┼────────────────────────┼───────────────┤\n",
       "│ dense (<span style=\"color: #0087ff; text-decoration-color: #0087ff\">Dense</span>)                   │ (<span style=\"color: #00d7ff; text-decoration-color: #00d7ff\">None</span>, <span style=\"color: #00af00; text-decoration-color: #00af00\">9</span>)              │           <span style=\"color: #00af00; text-decoration-color: #00af00\">414</span> │\n",
       "└─────────────────────────────────┴────────────────────────┴───────────────┘\n",
       "</pre>\n"
      ],
      "text/plain": [
       "┏━━━━━━━━━━━━━━━━━━━━━━━━━━━━━━━━━┳━━━━━━━━━━━━━━━━━━━━━━━━┳━━━━━━━━━━━━━━━┓\n",
       "┃\u001b[1m \u001b[0m\u001b[1mLayer (type)                   \u001b[0m\u001b[1m \u001b[0m┃\u001b[1m \u001b[0m\u001b[1mOutput Shape          \u001b[0m\u001b[1m \u001b[0m┃\u001b[1m \u001b[0m\u001b[1m      Param #\u001b[0m\u001b[1m \u001b[0m┃\n",
       "┡━━━━━━━━━━━━━━━━━━━━━━━━━━━━━━━━━╇━━━━━━━━━━━━━━━━━━━━━━━━╇━━━━━━━━━━━━━━━┩\n",
       "│ lstm (\u001b[38;5;33mLSTM\u001b[0m)                     │ (\u001b[38;5;45mNone\u001b[0m, \u001b[38;5;34m3\u001b[0m, \u001b[38;5;34m11\u001b[0m)          │         \u001b[38;5;34m1,012\u001b[0m │\n",
       "├─────────────────────────────────┼────────────────────────┼───────────────┤\n",
       "│ lstm_1 (\u001b[38;5;33mLSTM\u001b[0m)                   │ (\u001b[38;5;45mNone\u001b[0m, \u001b[38;5;34m3\u001b[0m, \u001b[38;5;34m45\u001b[0m)          │        \u001b[38;5;34m10,260\u001b[0m │\n",
       "├─────────────────────────────────┼────────────────────────┼───────────────┤\n",
       "│ lstm_2 (\u001b[38;5;33mLSTM\u001b[0m)                   │ (\u001b[38;5;45mNone\u001b[0m, \u001b[38;5;34m45\u001b[0m)             │        \u001b[38;5;34m16,380\u001b[0m │\n",
       "├─────────────────────────────────┼────────────────────────┼───────────────┤\n",
       "│ dense (\u001b[38;5;33mDense\u001b[0m)                   │ (\u001b[38;5;45mNone\u001b[0m, \u001b[38;5;34m9\u001b[0m)              │           \u001b[38;5;34m414\u001b[0m │\n",
       "└─────────────────────────────────┴────────────────────────┴───────────────┘\n"
      ]
     },
     "metadata": {},
     "output_type": "display_data"
    },
    {
     "data": {
      "text/html": [
       "<pre style=\"white-space:pre;overflow-x:auto;line-height:normal;font-family:Menlo,'DejaVu Sans Mono',consolas,'Courier New',monospace\"><span style=\"font-weight: bold\"> Total params: </span><span style=\"color: #00af00; text-decoration-color: #00af00\">28,066</span> (109.63 KB)\n",
       "</pre>\n"
      ],
      "text/plain": [
       "\u001b[1m Total params: \u001b[0m\u001b[38;5;34m28,066\u001b[0m (109.63 KB)\n"
      ]
     },
     "metadata": {},
     "output_type": "display_data"
    },
    {
     "data": {
      "text/html": [
       "<pre style=\"white-space:pre;overflow-x:auto;line-height:normal;font-family:Menlo,'DejaVu Sans Mono',consolas,'Courier New',monospace\"><span style=\"font-weight: bold\"> Trainable params: </span><span style=\"color: #00af00; text-decoration-color: #00af00\">28,066</span> (109.63 KB)\n",
       "</pre>\n"
      ],
      "text/plain": [
       "\u001b[1m Trainable params: \u001b[0m\u001b[38;5;34m28,066\u001b[0m (109.63 KB)\n"
      ]
     },
     "metadata": {},
     "output_type": "display_data"
    },
    {
     "data": {
      "text/html": [
       "<pre style=\"white-space:pre;overflow-x:auto;line-height:normal;font-family:Menlo,'DejaVu Sans Mono',consolas,'Courier New',monospace\"><span style=\"font-weight: bold\"> Non-trainable params: </span><span style=\"color: #00af00; text-decoration-color: #00af00\">0</span> (0.00 B)\n",
       "</pre>\n"
      ],
      "text/plain": [
       "\u001b[1m Non-trainable params: \u001b[0m\u001b[38;5;34m0\u001b[0m (0.00 B)\n"
      ]
     },
     "metadata": {},
     "output_type": "display_data"
    },
    {
     "name": "stdout",
     "output_type": "stream",
     "text": [
      "Epoch 1/25\n",
      "\u001b[1m1283/1283\u001b[0m \u001b[32m━━━━━━━━━━━━━━━━━━━━\u001b[0m\u001b[37m\u001b[0m \u001b[1m0s\u001b[0m 39ms/step - categorical_accuracy: 0.1667 - loss: 2.1259"
     ]
    },
    {
     "name": "stderr",
     "output_type": "stream",
     "text": [
      "WARNING:absl:You are saving your model as an HDF5 file via `model.save()` or `keras.saving.save_model(model)`. This file format is considered legacy. We recommend using instead the native Keras format, e.g. `model.save('my_model.keras')` or `keras.saving.save_model(model, 'my_model.keras')`. \n"
     ]
    },
    {
     "name": "stdout",
     "output_type": "stream",
     "text": [
      "\u001b[1m1283/1283\u001b[0m \u001b[32m━━━━━━━━━━━━━━━━━━━━\u001b[0m\u001b[37m\u001b[0m \u001b[1m178s\u001b[0m 134ms/step - categorical_accuracy: 0.1667 - loss: 2.1259 - val_categorical_accuracy: 0.4139 - val_loss: 1.4198\n",
      "Epoch 2/25\n",
      "\u001b[1m1283/1283\u001b[0m \u001b[32m━━━━━━━━━━━━━━━━━━━━\u001b[0m\u001b[37m\u001b[0m \u001b[1m0s\u001b[0m 41ms/step - categorical_accuracy: 0.6719 - loss: 0.9396"
     ]
    },
    {
     "name": "stderr",
     "output_type": "stream",
     "text": [
      "WARNING:absl:You are saving your model as an HDF5 file via `model.save()` or `keras.saving.save_model(model)`. This file format is considered legacy. We recommend using instead the native Keras format, e.g. `model.save('my_model.keras')` or `keras.saving.save_model(model, 'my_model.keras')`. \n"
     ]
    },
    {
     "name": "stdout",
     "output_type": "stream",
     "text": [
      "\u001b[1m1283/1283\u001b[0m \u001b[32m━━━━━━━━━━━━━━━━━━━━\u001b[0m\u001b[37m\u001b[0m \u001b[1m55s\u001b[0m 43ms/step - categorical_accuracy: 0.6719 - loss: 0.9394 - val_categorical_accuracy: 0.8496 - val_loss: 0.6017\n",
      "Epoch 3/25\n",
      "\u001b[1m1283/1283\u001b[0m \u001b[32m━━━━━━━━━━━━━━━━━━━━\u001b[0m\u001b[37m\u001b[0m \u001b[1m0s\u001b[0m 41ms/step - categorical_accuracy: 0.8542 - loss: 0.5972"
     ]
    },
    {
     "name": "stderr",
     "output_type": "stream",
     "text": [
      "WARNING:absl:You are saving your model as an HDF5 file via `model.save()` or `keras.saving.save_model(model)`. This file format is considered legacy. We recommend using instead the native Keras format, e.g. `model.save('my_model.keras')` or `keras.saving.save_model(model, 'my_model.keras')`. \n"
     ]
    },
    {
     "name": "stdout",
     "output_type": "stream",
     "text": [
      "\u001b[1m1283/1283\u001b[0m \u001b[32m━━━━━━━━━━━━━━━━━━━━\u001b[0m\u001b[37m\u001b[0m \u001b[1m55s\u001b[0m 43ms/step - categorical_accuracy: 0.8542 - loss: 0.5972 - val_categorical_accuracy: 0.8739 - val_loss: 0.5516\n",
      "Epoch 4/25\n",
      "\u001b[1m1283/1283\u001b[0m \u001b[32m━━━━━━━━━━━━━━━━━━━━\u001b[0m\u001b[37m\u001b[0m \u001b[1m0s\u001b[0m 46ms/step - categorical_accuracy: 0.8834 - loss: 0.5087"
     ]
    },
    {
     "name": "stderr",
     "output_type": "stream",
     "text": [
      "WARNING:absl:You are saving your model as an HDF5 file via `model.save()` or `keras.saving.save_model(model)`. This file format is considered legacy. We recommend using instead the native Keras format, e.g. `model.save('my_model.keras')` or `keras.saving.save_model(model, 'my_model.keras')`. \n"
     ]
    },
    {
     "name": "stdout",
     "output_type": "stream",
     "text": [
      "\u001b[1m1283/1283\u001b[0m \u001b[32m━━━━━━━━━━━━━━━━━━━━\u001b[0m\u001b[37m\u001b[0m \u001b[1m62s\u001b[0m 48ms/step - categorical_accuracy: 0.8834 - loss: 0.5087 - val_categorical_accuracy: 0.8758 - val_loss: 0.5156\n",
      "Epoch 5/25\n",
      "\u001b[1m1282/1283\u001b[0m \u001b[32m━━━━━━━━━━━━━━━━━━━\u001b[0m\u001b[37m━\u001b[0m \u001b[1m0s\u001b[0m 43ms/step - categorical_accuracy: 0.8970 - loss: 0.4587"
     ]
    },
    {
     "name": "stderr",
     "output_type": "stream",
     "text": [
      "WARNING:absl:You are saving your model as an HDF5 file via `model.save()` or `keras.saving.save_model(model)`. This file format is considered legacy. We recommend using instead the native Keras format, e.g. `model.save('my_model.keras')` or `keras.saving.save_model(model, 'my_model.keras')`. \n"
     ]
    },
    {
     "name": "stdout",
     "output_type": "stream",
     "text": [
      "\u001b[1m1283/1283\u001b[0m \u001b[32m━━━━━━━━━━━━━━━━━━━━\u001b[0m\u001b[37m\u001b[0m \u001b[1m58s\u001b[0m 45ms/step - categorical_accuracy: 0.8970 - loss: 0.4587 - val_categorical_accuracy: 0.8793 - val_loss: 0.4980\n",
      "Epoch 6/25\n",
      "\u001b[1m1283/1283\u001b[0m \u001b[32m━━━━━━━━━━━━━━━━━━━━\u001b[0m\u001b[37m\u001b[0m \u001b[1m0s\u001b[0m 47ms/step - categorical_accuracy: 0.9030 - loss: 0.4305"
     ]
    },
    {
     "name": "stderr",
     "output_type": "stream",
     "text": [
      "WARNING:absl:You are saving your model as an HDF5 file via `model.save()` or `keras.saving.save_model(model)`. This file format is considered legacy. We recommend using instead the native Keras format, e.g. `model.save('my_model.keras')` or `keras.saving.save_model(model, 'my_model.keras')`. \n"
     ]
    },
    {
     "name": "stdout",
     "output_type": "stream",
     "text": [
      "\u001b[1m1283/1283\u001b[0m \u001b[32m━━━━━━━━━━━━━━━━━━━━\u001b[0m\u001b[37m\u001b[0m \u001b[1m63s\u001b[0m 49ms/step - categorical_accuracy: 0.9030 - loss: 0.4305 - val_categorical_accuracy: 0.8791 - val_loss: 0.4849\n",
      "Epoch 7/25\n",
      "\u001b[1m1283/1283\u001b[0m \u001b[32m━━━━━━━━━━━━━━━━━━━━\u001b[0m\u001b[37m\u001b[0m \u001b[1m0s\u001b[0m 45ms/step - categorical_accuracy: 0.9076 - loss: 0.4074"
     ]
    },
    {
     "name": "stderr",
     "output_type": "stream",
     "text": [
      "WARNING:absl:You are saving your model as an HDF5 file via `model.save()` or `keras.saving.save_model(model)`. This file format is considered legacy. We recommend using instead the native Keras format, e.g. `model.save('my_model.keras')` or `keras.saving.save_model(model, 'my_model.keras')`. \n"
     ]
    },
    {
     "name": "stdout",
     "output_type": "stream",
     "text": [
      "\u001b[1m1283/1283\u001b[0m \u001b[32m━━━━━━━━━━━━━━━━━━━━\u001b[0m\u001b[37m\u001b[0m \u001b[1m60s\u001b[0m 46ms/step - categorical_accuracy: 0.9076 - loss: 0.4074 - val_categorical_accuracy: 0.8803 - val_loss: 0.4735\n",
      "Epoch 8/25\n",
      "\u001b[1m1283/1283\u001b[0m \u001b[32m━━━━━━━━━━━━━━━━━━━━\u001b[0m\u001b[37m\u001b[0m \u001b[1m0s\u001b[0m 44ms/step - categorical_accuracy: 0.9092 - loss: 0.3950"
     ]
    },
    {
     "name": "stderr",
     "output_type": "stream",
     "text": [
      "WARNING:absl:You are saving your model as an HDF5 file via `model.save()` or `keras.saving.save_model(model)`. This file format is considered legacy. We recommend using instead the native Keras format, e.g. `model.save('my_model.keras')` or `keras.saving.save_model(model, 'my_model.keras')`. \n"
     ]
    },
    {
     "name": "stdout",
     "output_type": "stream",
     "text": [
      "\u001b[1m1283/1283\u001b[0m \u001b[32m━━━━━━━━━━━━━━━━━━━━\u001b[0m\u001b[37m\u001b[0m \u001b[1m59s\u001b[0m 46ms/step - categorical_accuracy: 0.9092 - loss: 0.3950 - val_categorical_accuracy: 0.8806 - val_loss: 0.4665\n",
      "Epoch 9/25\n",
      "\u001b[1m1282/1283\u001b[0m \u001b[32m━━━━━━━━━━━━━━━━━━━\u001b[0m\u001b[37m━\u001b[0m \u001b[1m0s\u001b[0m 41ms/step - categorical_accuracy: 0.9120 - loss: 0.3805"
     ]
    },
    {
     "name": "stderr",
     "output_type": "stream",
     "text": [
      "WARNING:absl:You are saving your model as an HDF5 file via `model.save()` or `keras.saving.save_model(model)`. This file format is considered legacy. We recommend using instead the native Keras format, e.g. `model.save('my_model.keras')` or `keras.saving.save_model(model, 'my_model.keras')`. \n"
     ]
    },
    {
     "name": "stdout",
     "output_type": "stream",
     "text": [
      "\u001b[1m1283/1283\u001b[0m \u001b[32m━━━━━━━━━━━━━━━━━━━━\u001b[0m\u001b[37m\u001b[0m \u001b[1m55s\u001b[0m 43ms/step - categorical_accuracy: 0.9120 - loss: 0.3805 - val_categorical_accuracy: 0.8804 - val_loss: 0.4649\n",
      "Epoch 10/25\n",
      "\u001b[1m1283/1283\u001b[0m \u001b[32m━━━━━━━━━━━━━━━━━━━━\u001b[0m\u001b[37m\u001b[0m \u001b[1m0s\u001b[0m 40ms/step - categorical_accuracy: 0.9127 - loss: 0.3775"
     ]
    },
    {
     "name": "stderr",
     "output_type": "stream",
     "text": [
      "WARNING:absl:You are saving your model as an HDF5 file via `model.save()` or `keras.saving.save_model(model)`. This file format is considered legacy. We recommend using instead the native Keras format, e.g. `model.save('my_model.keras')` or `keras.saving.save_model(model, 'my_model.keras')`. \n"
     ]
    },
    {
     "name": "stdout",
     "output_type": "stream",
     "text": [
      "\u001b[1m1283/1283\u001b[0m \u001b[32m━━━━━━━━━━━━━━━━━━━━\u001b[0m\u001b[37m\u001b[0m \u001b[1m54s\u001b[0m 42ms/step - categorical_accuracy: 0.9127 - loss: 0.3775 - val_categorical_accuracy: 0.8833 - val_loss: 0.4595\n",
      "Epoch 11/25\n",
      "\u001b[1m1283/1283\u001b[0m \u001b[32m━━━━━━━━━━━━━━━━━━━━\u001b[0m\u001b[37m\u001b[0m \u001b[1m53s\u001b[0m 42ms/step - categorical_accuracy: 0.9142 - loss: 0.3709 - val_categorical_accuracy: 0.8825 - val_loss: 0.4613\n",
      "Epoch 12/25\n",
      "\u001b[1m1283/1283\u001b[0m \u001b[32m━━━━━━━━━━━━━━━━━━━━\u001b[0m\u001b[37m\u001b[0m \u001b[1m0s\u001b[0m 41ms/step - categorical_accuracy: 0.9155 - loss: 0.3650"
     ]
    },
    {
     "name": "stderr",
     "output_type": "stream",
     "text": [
      "WARNING:absl:You are saving your model as an HDF5 file via `model.save()` or `keras.saving.save_model(model)`. This file format is considered legacy. We recommend using instead the native Keras format, e.g. `model.save('my_model.keras')` or `keras.saving.save_model(model, 'my_model.keras')`. \n"
     ]
    },
    {
     "name": "stdout",
     "output_type": "stream",
     "text": [
      "\u001b[1m1283/1283\u001b[0m \u001b[32m━━━━━━━━━━━━━━━━━━━━\u001b[0m\u001b[37m\u001b[0m \u001b[1m56s\u001b[0m 43ms/step - categorical_accuracy: 0.9155 - loss: 0.3650 - val_categorical_accuracy: 0.8837 - val_loss: 0.4566\n",
      "Epoch 13/25\n",
      "\u001b[1m1283/1283\u001b[0m \u001b[32m━━━━━━━━━━━━━━━━━━━━\u001b[0m\u001b[37m\u001b[0m \u001b[1m58s\u001b[0m 46ms/step - categorical_accuracy: 0.9157 - loss: 0.3654 - val_categorical_accuracy: 0.8814 - val_loss: 0.4587\n",
      "Epoch 14/25\n",
      "\u001b[1m1283/1283\u001b[0m \u001b[32m━━━━━━━━━━━━━━━━━━━━\u001b[0m\u001b[37m\u001b[0m \u001b[1m0s\u001b[0m 46ms/step - categorical_accuracy: 0.9167 - loss: 0.3610"
     ]
    },
    {
     "name": "stderr",
     "output_type": "stream",
     "text": [
      "WARNING:absl:You are saving your model as an HDF5 file via `model.save()` or `keras.saving.save_model(model)`. This file format is considered legacy. We recommend using instead the native Keras format, e.g. `model.save('my_model.keras')` or `keras.saving.save_model(model, 'my_model.keras')`. \n"
     ]
    },
    {
     "name": "stdout",
     "output_type": "stream",
     "text": [
      "\u001b[1m1283/1283\u001b[0m \u001b[32m━━━━━━━━━━━━━━━━━━━━\u001b[0m\u001b[37m\u001b[0m \u001b[1m62s\u001b[0m 48ms/step - categorical_accuracy: 0.9167 - loss: 0.3610 - val_categorical_accuracy: 0.8831 - val_loss: 0.4525\n",
      "Epoch 15/25\n",
      "\u001b[1m1283/1283\u001b[0m \u001b[32m━━━━━━━━━━━━━━━━━━━━\u001b[0m\u001b[37m\u001b[0m \u001b[1m63s\u001b[0m 49ms/step - categorical_accuracy: 0.9178 - loss: 0.3565 - val_categorical_accuracy: 0.8830 - val_loss: 0.4590\n",
      "Epoch 16/25\n",
      "\u001b[1m1283/1283\u001b[0m \u001b[32m━━━━━━━━━━━━━━━━━━━━\u001b[0m\u001b[37m\u001b[0m \u001b[1m64s\u001b[0m 50ms/step - categorical_accuracy: 0.9179 - loss: 0.3566 - val_categorical_accuracy: 0.8826 - val_loss: 0.4541\n",
      "Epoch 17/25\n",
      "\u001b[1m1283/1283\u001b[0m \u001b[32m━━━━━━━━━━━━━━━━━━━━\u001b[0m\u001b[37m\u001b[0m \u001b[1m61s\u001b[0m 47ms/step - categorical_accuracy: 0.9180 - loss: 0.3561 - val_categorical_accuracy: 0.8835 - val_loss: 0.4572\n",
      "Epoch 18/25\n",
      "\u001b[1m1283/1283\u001b[0m \u001b[32m━━━━━━━━━━━━━━━━━━━━\u001b[0m\u001b[37m\u001b[0m \u001b[1m59s\u001b[0m 46ms/step - categorical_accuracy: 0.9187 - loss: 0.3530 - val_categorical_accuracy: 0.8831 - val_loss: 0.4550\n",
      "Epoch 19/25\n",
      "\u001b[1m1283/1283\u001b[0m \u001b[32m━━━━━━━━━━━━━━━━━━━━\u001b[0m\u001b[37m\u001b[0m \u001b[1m63s\u001b[0m 49ms/step - categorical_accuracy: 0.9193 - loss: 0.3523 - val_categorical_accuracy: 0.8836 - val_loss: 0.4537\n",
      "Epoch 20/25\n",
      "\u001b[1m1283/1283\u001b[0m \u001b[32m━━━━━━━━━━━━━━━━━━━━\u001b[0m\u001b[37m\u001b[0m \u001b[1m62s\u001b[0m 48ms/step - categorical_accuracy: 0.9193 - loss: 0.3524 - val_categorical_accuracy: 0.8837 - val_loss: 0.4537\n",
      "Epoch 21/25\n",
      "\u001b[1m1283/1283\u001b[0m \u001b[32m━━━━━━━━━━━━━━━━━━━━\u001b[0m\u001b[37m\u001b[0m \u001b[1m0s\u001b[0m 43ms/step - categorical_accuracy: 0.9189 - loss: 0.3517"
     ]
    },
    {
     "name": "stderr",
     "output_type": "stream",
     "text": [
      "WARNING:absl:You are saving your model as an HDF5 file via `model.save()` or `keras.saving.save_model(model)`. This file format is considered legacy. We recommend using instead the native Keras format, e.g. `model.save('my_model.keras')` or `keras.saving.save_model(model, 'my_model.keras')`. \n"
     ]
    },
    {
     "name": "stdout",
     "output_type": "stream",
     "text": [
      "\u001b[1m1283/1283\u001b[0m \u001b[32m━━━━━━━━━━━━━━━━━━━━\u001b[0m\u001b[37m\u001b[0m \u001b[1m57s\u001b[0m 44ms/step - categorical_accuracy: 0.9189 - loss: 0.3517 - val_categorical_accuracy: 0.8853 - val_loss: 0.4516\n",
      "Epoch 22/25\n",
      "\u001b[1m1282/1283\u001b[0m \u001b[32m━━━━━━━━━━━━━━━━━━━\u001b[0m\u001b[37m━\u001b[0m \u001b[1m0s\u001b[0m 44ms/step - categorical_accuracy: 0.9199 - loss: 0.3476"
     ]
    },
    {
     "name": "stderr",
     "output_type": "stream",
     "text": [
      "WARNING:absl:You are saving your model as an HDF5 file via `model.save()` or `keras.saving.save_model(model)`. This file format is considered legacy. We recommend using instead the native Keras format, e.g. `model.save('my_model.keras')` or `keras.saving.save_model(model, 'my_model.keras')`. \n"
     ]
    },
    {
     "name": "stdout",
     "output_type": "stream",
     "text": [
      "\u001b[1m1283/1283\u001b[0m \u001b[32m━━━━━━━━━━━━━━━━━━━━\u001b[0m\u001b[37m\u001b[0m \u001b[1m59s\u001b[0m 46ms/step - categorical_accuracy: 0.9199 - loss: 0.3476 - val_categorical_accuracy: 0.8840 - val_loss: 0.4507\n",
      "Epoch 23/25\n",
      "\u001b[1m1283/1283\u001b[0m \u001b[32m━━━━━━━━━━━━━━━━━━━━\u001b[0m\u001b[37m\u001b[0m \u001b[1m51s\u001b[0m 40ms/step - categorical_accuracy: 0.9201 - loss: 0.3478 - val_categorical_accuracy: 0.8844 - val_loss: 0.4531\n",
      "Epoch 24/25\n",
      "\u001b[1m1283/1283\u001b[0m \u001b[32m━━━━━━━━━━━━━━━━━━━━\u001b[0m\u001b[37m\u001b[0m \u001b[1m52s\u001b[0m 40ms/step - categorical_accuracy: 0.9202 - loss: 0.3464 - val_categorical_accuracy: 0.8843 - val_loss: 0.4512\n",
      "Epoch 25/25\n",
      "\u001b[1m1283/1283\u001b[0m \u001b[32m━━━━━━━━━━━━━━━━━━━━\u001b[0m\u001b[37m\u001b[0m \u001b[1m55s\u001b[0m 43ms/step - categorical_accuracy: 0.9202 - loss: 0.3457 - val_categorical_accuracy: 0.8839 - val_loss: 0.4533\n"
     ]
    }
   ],
   "source": [
    "lstm = Sequential()\n",
    "lstm.add(keras.layers.LSTM(input_dims,\n",
    "                     recurrent_dropout=0.5, \n",
    "                     return_sequences=True, \n",
    "                     input_shape = ( x_batch.shape[1], x_batch.shape[2] )  )\n",
    "         )\n",
    "\n",
    "lstm.add(keras.layers.LSTM(4*input_dims+1,\n",
    "                      dropout=0.1,\n",
    "                      recurrent_dropout=0.5,\n",
    "                      activation = 'relu',\n",
    "                      return_sequences=True)\n",
    "          )\n",
    "\n",
    "lstm.add(keras.layers.LSTM(4*input_dims+1,\n",
    "                      dropout=0.1,\n",
    "                      recurrent_dropout=0.5, \n",
    "                      activation = 'relu'\n",
    "                      )\n",
    "          )\n",
    "\n",
    "lstm.add(keras.layers.Dense(output_dims, activation = 'softmax'))\n",
    "lstm.summary()\n",
    "\n",
    "network_gen.register_network(lstm)\n",
    "network_gen.model.compile(optimizer = sgd_optimizer, loss = 'categorical_crossentropy', metrics = ['categorical_accuracy'])\n",
    "results = network_gen.train_network(validation_data = val_data_generator, epochs = 25, train_data = train_data_generator)"
   ]
  },
  {
   "cell_type": "markdown",
   "id": "5af1460f",
   "metadata": {},
   "source": [
    "## Print Training Results"
   ]
  },
  {
   "cell_type": "code",
   "execution_count": 4,
   "id": "879b0933",
   "metadata": {},
   "outputs": [
    {
     "data": {
      "image/png": "[encoded data removed]",
      "text/plain": [
       "<Figure size 1500x500 with 1 Axes>"
      ]
     },
     "metadata": {},
     "output_type": "display_data"
    }
   ],
   "source": [
    "network_gen.print_training(results)"
   ]
  },
  {
   "cell_type": "markdown",
   "id": "fc6c7b0d",
   "metadata": {},
   "source": [
    "## Test Network and Create Metrics"
   ]
  },
  {
   "cell_type": "code",
   "execution_count": 5,
   "id": "b6fd5854",
   "metadata": {},
   "outputs": [
    {
     "data": {
      "text/html": [
       "<pre style=\"white-space:pre;overflow-x:auto;line-height:normal;font-family:Menlo,'DejaVu Sans Mono',consolas,'Courier New',monospace\"><span style=\"font-weight: bold\">Model: \"sequential\"</span>\n",
       "</pre>\n"
      ],
      "text/plain": [
       "\u001b[1mModel: \"sequential\"\u001b[0m\n"
      ]
     },
     "metadata": {},
     "output_type": "display_data"
    },
    {
     "data": {
      "text/html": [
       "<pre style=\"white-space:pre;overflow-x:auto;line-height:normal;font-family:Menlo,'DejaVu Sans Mono',consolas,'Courier New',monospace\">┏━━━━━━━━━━━━━━━━━━━━━━━━━━━━━━━━━┳━━━━━━━━━━━━━━━━━━━━━━━━┳━━━━━━━━━━━━━━━┓\n",
       "┃<span style=\"font-weight: bold\"> Layer (type)                    </span>┃<span style=\"font-weight: bold\"> Output Shape           </span>┃<span style=\"font-weight: bold\">       Param # </span>┃\n",
       "┡━━━━━━━━━━━━━━━━━━━━━━━━━━━━━━━━━╇━━━━━━━━━━━━━━━━━━━━━━━━╇━━━━━━━━━━━━━━━┩\n",
       "│ lstm (<span style=\"color: #0087ff; text-decoration-color: #0087ff\">LSTM</span>)                     │ (<span style=\"color: #00d7ff; text-decoration-color: #00d7ff\">None</span>, <span style=\"color: #00af00; text-decoration-color: #00af00\">3</span>, <span style=\"color: #00af00; text-decoration-color: #00af00\">11</span>)          │         <span style=\"color: #00af00; text-decoration-color: #00af00\">1,012</span> │\n",
       "├─────────────────────────────────┼────────────────────────┼───────────────┤\n",
       "│ lstm_1 (<span style=\"color: #0087ff; text-decoration-color: #0087ff\">LSTM</span>)                   │ (<span style=\"color: #00d7ff; text-decoration-color: #00d7ff\">None</span>, <span style=\"color: #00af00; text-decoration-color: #00af00\">3</span>, <span style=\"color: #00af00; text-decoration-color: #00af00\">45</span>)          │        <span style=\"color: #00af00; text-decoration-color: #00af00\">10,260</span> │\n",
       "├─────────────────────────────────┼────────────────────────┼───────────────┤\n",
       "│ lstm_2 (<span style=\"color: #0087ff; text-decoration-color: #0087ff\">LSTM</span>)                   │ (<span style=\"color: #00d7ff; text-decoration-color: #00d7ff\">None</span>, <span style=\"color: #00af00; text-decoration-color: #00af00\">45</span>)             │        <span style=\"color: #00af00; text-decoration-color: #00af00\">16,380</span> │\n",
       "├─────────────────────────────────┼────────────────────────┼───────────────┤\n",
       "│ dense (<span style=\"color: #0087ff; text-decoration-color: #0087ff\">Dense</span>)                   │ (<span style=\"color: #00d7ff; text-decoration-color: #00d7ff\">None</span>, <span style=\"color: #00af00; text-decoration-color: #00af00\">9</span>)              │           <span style=\"color: #00af00; text-decoration-color: #00af00\">414</span> │\n",
       "└─────────────────────────────────┴────────────────────────┴───────────────┘\n",
       "</pre>\n"
      ],
      "text/plain": [
       "┏━━━━━━━━━━━━━━━━━━━━━━━━━━━━━━━━━┳━━━━━━━━━━━━━━━━━━━━━━━━┳━━━━━━━━━━━━━━━┓\n",
       "┃\u001b[1m \u001b[0m\u001b[1mLayer (type)                   \u001b[0m\u001b[1m \u001b[0m┃\u001b[1m \u001b[0m\u001b[1mOutput Shape          \u001b[0m\u001b[1m \u001b[0m┃\u001b[1m \u001b[0m\u001b[1m      Param #\u001b[0m\u001b[1m \u001b[0m┃\n",
       "┡━━━━━━━━━━━━━━━━━━━━━━━━━━━━━━━━━╇━━━━━━━━━━━━━━━━━━━━━━━━╇━━━━━━━━━━━━━━━┩\n",
       "│ lstm (\u001b[38;5;33mLSTM\u001b[0m)                     │ (\u001b[38;5;45mNone\u001b[0m, \u001b[38;5;34m3\u001b[0m, \u001b[38;5;34m11\u001b[0m)          │         \u001b[38;5;34m1,012\u001b[0m │\n",
       "├─────────────────────────────────┼────────────────────────┼───────────────┤\n",
       "│ lstm_1 (\u001b[38;5;33mLSTM\u001b[0m)                   │ (\u001b[38;5;45mNone\u001b[0m, \u001b[38;5;34m3\u001b[0m, \u001b[38;5;34m45\u001b[0m)          │        \u001b[38;5;34m10,260\u001b[0m │\n",
       "├─────────────────────────────────┼────────────────────────┼───────────────┤\n",
       "│ lstm_2 (\u001b[38;5;33mLSTM\u001b[0m)                   │ (\u001b[38;5;45mNone\u001b[0m, \u001b[38;5;34m45\u001b[0m)             │        \u001b[38;5;34m16,380\u001b[0m │\n",
       "├─────────────────────────────────┼────────────────────────┼───────────────┤\n",
       "│ dense (\u001b[38;5;33mDense\u001b[0m)                   │ (\u001b[38;5;45mNone\u001b[0m, \u001b[38;5;34m9\u001b[0m)              │           \u001b[38;5;34m414\u001b[0m │\n",
       "└─────────────────────────────────┴────────────────────────┴───────────────┘\n"
      ]
     },
     "metadata": {},
     "output_type": "display_data"
    },
    {
     "data": {
      "text/html": [
       "<pre style=\"white-space:pre;overflow-x:auto;line-height:normal;font-family:Menlo,'DejaVu Sans Mono',consolas,'Courier New',monospace\"><span style=\"font-weight: bold\"> Total params: </span><span style=\"color: #00af00; text-decoration-color: #00af00\">56,134</span> (219.28 KB)\n",
       "</pre>\n"
      ],
      "text/plain": [
       "\u001b[1m Total params: \u001b[0m\u001b[38;5;34m56,134\u001b[0m (219.28 KB)\n"
      ]
     },
     "metadata": {},
     "output_type": "display_data"
    },
    {
     "data": {
      "text/html": [
       "<pre style=\"white-space:pre;overflow-x:auto;line-height:normal;font-family:Menlo,'DejaVu Sans Mono',consolas,'Courier New',monospace\"><span style=\"font-weight: bold\"> Trainable params: </span><span style=\"color: #00af00; text-decoration-color: #00af00\">28,066</span> (109.63 KB)\n",
       "</pre>\n"
      ],
      "text/plain": [
       "\u001b[1m Trainable params: \u001b[0m\u001b[38;5;34m28,066\u001b[0m (109.63 KB)\n"
      ]
     },
     "metadata": {},
     "output_type": "display_data"
    },
    {
     "data": {
      "text/html": [
       "<pre style=\"white-space:pre;overflow-x:auto;line-height:normal;font-family:Menlo,'DejaVu Sans Mono',consolas,'Courier New',monospace\"><span style=\"font-weight: bold\"> Non-trainable params: </span><span style=\"color: #00af00; text-decoration-color: #00af00\">0</span> (0.00 B)\n",
       "</pre>\n"
      ],
      "text/plain": [
       "\u001b[1m Non-trainable params: \u001b[0m\u001b[38;5;34m0\u001b[0m (0.00 B)\n"
      ]
     },
     "metadata": {},
     "output_type": "display_data"
    },
    {
     "data": {
      "text/html": [
       "<pre style=\"white-space:pre;overflow-x:auto;line-height:normal;font-family:Menlo,'DejaVu Sans Mono',consolas,'Courier New',monospace\"><span style=\"font-weight: bold\"> Optimizer params: </span><span style=\"color: #00af00; text-decoration-color: #00af00\">28,068</span> (109.64 KB)\n",
       "</pre>\n"
      ],
      "text/plain": [
       "\u001b[1m Optimizer params: \u001b[0m\u001b[38;5;34m28,068\u001b[0m (109.64 KB)\n"
      ]
     },
     "metadata": {},
     "output_type": "display_data"
    },
    {
     "name": "stdout",
     "output_type": "stream",
     "text": [
      "\u001b[1m17595/17595\u001b[0m \u001b[32m━━━━━━━━━━━━━━━━━━━━\u001b[0m\u001b[37m\u001b[0m \u001b[1m47s\u001b[0m 3ms/step - categorical_accuracy: 0.8971 - loss: 0.4170\n",
      "\u001b[1m17595/17595\u001b[0m \u001b[32m━━━━━━━━━━━━━━━━━━━━\u001b[0m\u001b[37m\u001b[0m \u001b[1m45s\u001b[0m 3ms/step\n",
      "Confusion Matrix\n",
      "[[ 84072   3607    507    113     26     10      4      1      3]\n",
      " [  3651  67943   3479    554     96     22     10      2      0]\n",
      " [   427   3396  55509   3315    492     78     21      6      4]\n",
      " [   105    490   3153  47188   2754    467    105     39     32]\n",
      " [    56    101    367   2643  39337   2651    414     88     81]\n",
      " [    18     52     84    380   2523  30022   3408    398    159]\n",
      " [    28     33     56    110    374   2256  25518   2015    535]\n",
      " [     6      9     18     31     66    300   2137  24503   2212]\n",
      " [    37     50     29     39     41     99    469   2299 135284]]\n",
      "Klassifikations Report\n",
      "0.9047257898074126\n",
      "Akkuratheit der Klassifikation\n",
      "              precision    recall  f1-score   support\n",
      "\n",
      "           0       0.95      0.95      0.95     88343\n",
      "           1       0.90      0.90      0.90     75757\n",
      "           2       0.88      0.88      0.88     63248\n",
      "           3       0.87      0.87      0.87     54333\n",
      "           4       0.86      0.86      0.86     45738\n",
      "           5       0.84      0.81      0.82     37044\n",
      "           6       0.80      0.83      0.81     30925\n",
      "           7       0.83      0.84      0.84     29282\n",
      "           8       0.98      0.98      0.98    138347\n",
      "\n",
      "    accuracy                           0.90    563017\n",
      "   macro avg       0.88      0.88      0.88    563017\n",
      "weighted avg       0.90      0.90      0.90    563017\n",
      "\n"
     ]
    }
   ],
   "source": [
    "x_batch, y_batch = next(test_data_generator)\n",
    "network_gen.test_predictions(network_gen.model, x_batch, y_batch, True)"
   ]
  }
 ],
 "metadata": {
  "kernelspec": {
   "display_name": "ml",
   "language": "python",
   "name": "python3"
  },
  "language_info": {
   "codemirror_mode": {
    "name": "ipython",
    "version": 3
   },
   "file_extension": ".py",
   "mimetype": "text/x-python",
   "name": "python",
   "nbconvert_exporter": "python",
   "pygments_lexer": "ipython3",
   "version": "3.12.3"
  }
 },
 "nbformat": 4,
 "nbformat_minor": 5
}
